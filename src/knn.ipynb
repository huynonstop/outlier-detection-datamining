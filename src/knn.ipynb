{
 "cells": [
  {
   "cell_type": "markdown",
   "source": [
    "# Demo outlier detection with Proximity-Based (kNN)\r\n",
    "\r\n",
    "Trần Tuấn Huy - 20424037"
   ],
   "metadata": {}
  },
  {
   "cell_type": "code",
   "execution_count": null,
   "source": [
    "import pandas as pd\r\n",
    "import numpy as np\r\n",
    "import matplotlib.pyplot as plt\r\n",
    "from sklearn.neighbors import NearestNeighbors"
   ],
   "outputs": [],
   "metadata": {}
  },
  {
   "cell_type": "code",
   "execution_count": null,
   "source": [
    "# Import dataset\r\n",
    "X = np.genfromtxt('./datasets/wine-data.csv', delimiter=',') # The wine dataset of scikit-learn\r\n",
    "data = X\r\n",
    "feature_space = pd.DataFrame(data)\r\n",
    "\r\n",
    "# Visual dataset\r\n",
    "plt.scatter(X[:, 0], X[:, 1], color='black', marker='o')\r\n",
    "plt.xlabel('Concentration of flavanoids', fontsize=16)\r\n",
    "plt.ylabel('Color intensity', fontsize=16)\r\n",
    "plt.title(\"Outlier detection on wine dataset\", fontsize=20)\r\n",
    "plt.show()\r\n",
    "feature_space"
   ],
   "outputs": [],
   "metadata": {}
  },
  {
   "cell_type": "code",
   "execution_count": null,
   "source": [
    "k = 3\r\n",
    "# Train kNN\r\n",
    "nbrs = NearestNeighbors(n_neighbors = k).fit(data)\r\n",
    "distances, indexes = nbrs.kneighbors(data)\r\n",
    "distances = distances[:,1:k]\r\n",
    "r = 0.5\r\n",
    "# If any object has distances > r is a outlier, because in such a case, there are fewer than k objects that are in the r-neighborhood.\r\n",
    "outliers = data[np.unique(np.where(distances > r)[0])]"
   ],
   "outputs": [],
   "metadata": {}
  },
  {
   "cell_type": "code",
   "execution_count": null,
   "source": [
    "plt.xlabel('Concentration of flavanoids', fontsize=16)\r\n",
    "plt.ylabel('Color intensity', fontsize=16)\r\n",
    "plt.title(\"Outlier detection on wine dataset\", fontsize=20)\r\n",
    "plt.scatter(X[:, 0], X[:, 1], color='black', marker='o')\r\n",
    "plt.scatter(outliers[:, 0], outliers[:, 1], color = \"r\")\r\n",
    "plt.show()"
   ],
   "outputs": [],
   "metadata": {}
  }
 ],
 "metadata": {
  "orig_nbformat": 4,
  "language_info": {
   "name": "python",
   "version": "3.9.6",
   "mimetype": "text/x-python",
   "codemirror_mode": {
    "name": "ipython",
    "version": 3
   },
   "pygments_lexer": "ipython3",
   "nbconvert_exporter": "python",
   "file_extension": ".py"
  },
  "kernelspec": {
   "name": "python3",
   "display_name": "Python 3.9.6 64-bit"
  },
  "interpreter": {
   "hash": "63fd5069d213b44bf678585dea6b12cceca9941eaf7f819626cde1f2670de90d"
  }
 },
 "nbformat": 4,
 "nbformat_minor": 2
}